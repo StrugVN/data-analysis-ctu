{
 "cells": [
  {
   "cell_type": "code",
   "execution_count": 1,
   "id": "e1a31533",
   "metadata": {},
   "outputs": [],
   "source": [
    "# request to \n",
    "# https://m.cafef.vn/du-lieu/Ajax/PageNew/DataHistory/PriceHistory.ashx?Symbol=ACB&StartDate=&EndDate=&PageIndex=1&PageSize=20\n",
    "import requests\n",
    "import pandas as pd\n"
   ]
  },
  {
   "cell_type": "code",
   "execution_count": 2,
   "id": "a7db3996",
   "metadata": {},
   "outputs": [],
   "source": [
    "def get_stock_data(symbol, start_date='', end_date='', page_index=1, page_size=999999):\n",
    "    url = 'https://m.cafef.vn/du-lieu/Ajax/PageNew/DataHistory/PriceHistory.ashx'\n",
    "    params = {\n",
    "        'Symbol': symbol,\n",
    "        'StartDate': start_date,\n",
    "        'EndDate': end_date,\n",
    "        'PageIndex': page_index,\n",
    "        'PageSize': page_size\n",
    "    }\n",
    "\n",
    "    response = requests.get(url, params=params)\n",
    "    response.raise_for_status()  # Raise an error for bad responses\n",
    "\n",
    "    data = response.json()\n",
    "\n",
    "    count = data['Data']['TotalCount']\n",
    "    stock_data = data['Data']['Data']\n",
    "\n",
    "    df = pd.DataFrame(stock_data)\n",
    "    df['Date'] = pd.to_datetime(df['Ngay'], format=\"%d/%m/%Y\")\n",
    "    df[['GiaThayDoi', 'ThayDoiPhanTram']] = df['ThayDoi'].str.extract(r'([-+]?\\d*\\.?\\d+)\\(([-+]?\\d*\\.?\\d+)\\s?%\\)')\n",
    "    df['GiaThayDoi'] = pd.to_numeric(df['GiaThayDoi'])\n",
    "    df['ThayDoiPhanTram'] = pd.to_numeric(df['ThayDoiPhanTram'])\n",
    "    df['Stock'] = symbol\n",
    "    new_order = [\n",
    "        'Date', 'Ngay', 'Stock', 'GiaDieuChinh', 'GiaDongCua', 'GiaMoCua', 'GiaCaoNhat', 'GiaThapNhat', 'GiaThayDoi', 'ThayDoiPhanTram',\n",
    "        'ThayDoi',  'KhoiLuongKhopLenh', 'GiaTriKhopLenh', 'KLThoaThuan',\n",
    "        'GtThoaThuan', \n",
    "    ]\n",
    "    df = df[new_order]\n",
    "    return df"
   ]
  },
  {
   "cell_type": "code",
   "execution_count": 3,
   "id": "5b58f868",
   "metadata": {},
   "outputs": [],
   "source": [
    "stock_list = ['ACB', 'HPG', 'KSB', 'NLG', 'VNM']\n",
    "df_list = []\n",
    "\n",
    "for stock in stock_list:\n",
    "    try:\n",
    "        df = get_stock_data(stock)\n",
    "        df.to_csv(f'{stock}_data.csv', index=False)\n",
    "        df_list.append(df)\n",
    "    except Exception as e:\n",
    "        print(f\"Error fetching data for {stock}: {e}\")"
   ]
  },
  {
   "cell_type": "code",
   "execution_count": 4,
   "id": "4d115b1f",
   "metadata": {},
   "outputs": [
    {
     "name": "stdout",
     "output_type": "stream",
     "text": [
      "Minimum date across all stocks: 2006-01-19 00:00:00\n"
     ]
    }
   ],
   "source": [
    "# Get min date from each DataFrame\n",
    "min_dates = [df['Date'].min() for df in df_list if not df.empty]\n",
    "if min_dates:\n",
    "    min_date = min(min_dates)\n",
    "    print(f\"Minimum date across all stocks: {min_date}\")"
   ]
  },
  {
   "cell_type": "code",
   "execution_count": 5,
   "id": "479e6a88",
   "metadata": {},
   "outputs": [
    {
     "data": {
      "text/plain": [
       "[Timestamp('2006-11-21 00:00:00'),\n",
       " Timestamp('2007-11-15 00:00:00'),\n",
       " Timestamp('2010-01-20 00:00:00'),\n",
       " Timestamp('2013-04-08 00:00:00'),\n",
       " Timestamp('2006-01-19 00:00:00')]"
      ]
     },
     "execution_count": 5,
     "metadata": {},
     "output_type": "execute_result"
    }
   ],
   "source": [
    "min_dates"
   ]
  }
 ],
 "metadata": {
  "kernelspec": {
   "display_name": "Python 3",
   "language": "python",
   "name": "python3"
  },
  "language_info": {
   "codemirror_mode": {
    "name": "ipython",
    "version": 3
   },
   "file_extension": ".py",
   "mimetype": "text/x-python",
   "name": "python",
   "nbconvert_exporter": "python",
   "pygments_lexer": "ipython3",
   "version": "3.12.8"
  }
 },
 "nbformat": 4,
 "nbformat_minor": 5
}
